{
 "cells": [
  {
   "cell_type": "code",
   "execution_count": 7,
   "id": "905bbbea",
   "metadata": {},
   "outputs": [
    {
     "name": "stdout",
     "output_type": "stream",
     "text": [
      "['<local-root-path>/src/predicting', '<local-root-path>/src/plotting', '<local-root-path>/src/modeling', '<local-root-path>/predicting', '<local-root-path>/plotting', '<local-root-path>/modeling', '<local-root-path>/src/predicting', '<local-root-path>/src/plotting', '<local-root-path>/src/modeling', '<local-root-path>/src/predicting', '<local-root-path>/src/plotting', '<local-root-path>/src/modeling', '<local-root-path>/src/predicting', '<local-root-path>/src/plotting', '<local-root-path>/src/modeling', '<local-root-path>/src/predicting', '<local-root-path>/src/plotting', '<local-root-path>/src/modeling', 'c:\\\\Users\\\\jacob\\\\Documents\\\\GitHub\\\\rl-recommender-systems', 'C:\\\\Users\\\\jacob\\\\.conda\\\\envs\\\\mlwgpu\\\\python38.zip', 'C:\\\\Users\\\\jacob\\\\.conda\\\\envs\\\\mlwgpu\\\\DLLs', 'C:\\\\Users\\\\jacob\\\\.conda\\\\envs\\\\mlwgpu\\\\lib', 'C:\\\\Users\\\\jacob\\\\.conda\\\\envs\\\\mlwgpu', '', 'C:\\\\Users\\\\jacob\\\\.conda\\\\envs\\\\mlwgpu\\\\lib\\\\site-packages', 'C:\\\\Users\\\\jacob\\\\.conda\\\\envs\\\\mlwgpu\\\\lib\\\\site-packages\\\\win32', 'C:\\\\Users\\\\jacob\\\\.conda\\\\envs\\\\mlwgpu\\\\lib\\\\site-packages\\\\win32\\\\lib', 'C:\\\\Users\\\\jacob\\\\.conda\\\\envs\\\\mlwgpu\\\\lib\\\\site-packages\\\\Pythonwin', 'C:\\\\Users\\\\jacob\\\\.conda\\\\envs\\\\mlwgpu\\\\lib\\\\site-packages\\\\IPython\\\\extensions', 'C:\\\\Users\\\\jacob\\\\.ipython', 'C:\\\\Users\\\\jacob\\\\AppData\\\\Roaming\\\\Python\\\\Python38\\\\site-packages', '<local-root-path>/src/', '<local-root-path>/src/', '<local-root-path>/src/', '<local-root-path>/src/', '<local-root-path>', '<local-root-path>/src/']\n"
     ]
    },
    {
     "ename": "ModuleNotFoundError",
     "evalue": "No module named 'plotting'",
     "output_type": "error",
     "traceback": [
      "\u001b[1;31m---------------------------------------------------------------------------\u001b[0m",
      "\u001b[1;31mModuleNotFoundError\u001b[0m                       Traceback (most recent call last)",
      "\u001b[1;32m~\\AppData\\Local\\Temp/ipykernel_24256/3784861913.py\u001b[0m in \u001b[0;36m<module>\u001b[1;34m\u001b[0m\n\u001b[0;32m      9\u001b[0m \u001b[1;32mimport\u001b[0m \u001b[0mnumpy\u001b[0m \u001b[1;32mas\u001b[0m \u001b[0mnp\u001b[0m\u001b[1;33m\u001b[0m\u001b[1;33m\u001b[0m\u001b[0m\n\u001b[0;32m     10\u001b[0m \u001b[1;32mimport\u001b[0m \u001b[0mtensorflow\u001b[0m \u001b[1;32mas\u001b[0m \u001b[0mtf\u001b[0m\u001b[1;33m\u001b[0m\u001b[1;33m\u001b[0m\u001b[0m\n\u001b[1;32m---> 11\u001b[1;33m \u001b[1;32mfrom\u001b[0m \u001b[0mplotting\u001b[0m \u001b[1;32mimport\u001b[0m \u001b[0mplotting_utils\u001b[0m\u001b[1;33m\u001b[0m\u001b[1;33m\u001b[0m\u001b[0m\n\u001b[0m\u001b[0;32m     12\u001b[0m \u001b[1;32mfrom\u001b[0m \u001b[0mmodeling\u001b[0m \u001b[1;32mimport\u001b[0m \u001b[0mtrain_rl_model\u001b[0m\u001b[1;33m\u001b[0m\u001b[1;33m\u001b[0m\u001b[0m\n\u001b[0;32m     13\u001b[0m \u001b[1;32mfrom\u001b[0m \u001b[0mpredicting\u001b[0m \u001b[1;32mimport\u001b[0m \u001b[0mpredicting_utils\u001b[0m\u001b[1;33m\u001b[0m\u001b[1;33m\u001b[0m\u001b[0m\n",
      "\u001b[1;31mModuleNotFoundError\u001b[0m: No module named 'plotting'"
     ]
    }
   ],
   "source": [
    "# import sys\n",
    "# print(sys.path)\n",
    "# sys.path.append(\"<local-root-path>/src/\")\n",
    "# sys.path.insert(0, \"<local-root-path>/src/modeling\")\n",
    "# sys.path.insert(0, \"<local-root-path>/src/plotting\")\n",
    "# sys.path.insert(0, \"<local-root-path>/src/predicting\")\n",
    "\n",
    "import constant as const\n",
    "import numpy as np\n",
    "import tensorflow as tf\n",
    "from plotting import plotting_utils\n",
    "from modeling import train_rl_model\n",
    "from predicting import predicting_utils\n"
   ]
  },
  {
   "cell_type": "markdown",
   "id": "acde2597",
   "metadata": {},
   "source": [
    "### Define RL modules [locally]\n",
    "\n",
    "Define a [MovieLens-specific bandits environment](https://www.tensorflow.org/agents/api_docs/python/tf_agents/bandits/environments/movielens_py_environment/MovieLensPyEnvironment), a [Linear UCB agent](https://www.tensorflow.org/agents/api_docs/python/tf_agents/bandits/agents/lin_ucb_agent) and the [regret metric](https://www.tensorflow.org/agents/api_docs/python/tf_agents/bandits/metrics/tf_metrics/RegretMetric)."
   ]
  },
  {
   "cell_type": "code",
   "execution_count": null,
   "id": "4c33f898",
   "metadata": {},
   "outputs": [],
   "source": [
    "tf.profiler.experimental.start(const.PROFILER_DIR)\n",
    "environment = train_rl_model.define_rl_envirioment()\n",
    "agent = train_rl_model.define_rl_agent(environment)\n",
    "metrics = train_rl_model.define_rl_metric(environment)"
   ]
  },
  {
   "cell_type": "markdown",
   "id": "379f6568",
   "metadata": {},
   "source": [
    "### Train the model [locally]\n",
    "\n",
    "Define the training logic (on-policy training). The following function is the same as [trainer.train](https://github.com/tensorflow/agents/blob/r0.8.0/tf_agents/bandits/agents/examples/v2/trainer.py#L104), but it keeps track of intermediate metric values and saves different artifacts to different locations. You can also directly invoke [trainer.train](https://github.com/tensorflow/agents/blob/r0.8.0/tf_agents/bandits/agents/examples/v2/trainer.py#L104) which also trains the policy.\n",
    "\n",
    "Train the RL policy and gather intermediate metric results. At the same time, use [TensorBoard Profiler](https://www.tensorflow.org/guide/profiler) to profile the training process and resources."
   ]
  },
  {
   "cell_type": "code",
   "execution_count": null,
   "id": "216c9ed5",
   "metadata": {},
   "outputs": [],
   "source": [
    "metric_results = train_rl_model.train(\n",
    "    root_dir=const.ROOT_DIR,\n",
    "    agent=agent,\n",
    "    environment=environment,\n",
    "    training_loops=const.TRAINING_LOOPS,\n",
    "    steps_per_loop=const.STEPS_PER_LOOP,\n",
    "    additional_metrics=metrics)\n",
    "\n",
    "tf.profiler.experimental.stop()"
   ]
  },
  {
   "cell_type": "markdown",
   "id": "d99cdbeb",
   "metadata": {},
   "source": [
    "### Evaluate RL metrics [locally]\n",
    "\n",
    "You can visualize how the regret and average return metrics evolve over training steps."
   ]
  },
  {
   "cell_type": "code",
   "execution_count": null,
   "id": "8e0ab99f",
   "metadata": {},
   "outputs": [],
   "source": [
    "plotting_utils.plot(metric_results, \"RegretMetric\")"
   ]
  },
  {
   "cell_type": "code",
   "execution_count": null,
   "id": "133c2565",
   "metadata": {},
   "outputs": [],
   "source": [
    "plotting_utils.plot(metric_results, \"AverageReturnMetric\")"
   ]
  },
  {
   "cell_type": "markdown",
   "id": "ee8d9e6f",
   "metadata": {},
   "source": [
    "### Create custom prediction container\n",
    "\n",
    "As with training, create a custom prediction container. This container handles the TF-Agents specific logic that is different from a regular TensorFlow Model. Specifically, it finds the predicted action using a trained policy.\n",
    "\n",
    "#### Serve predictions:\n",
    "- Use [`tensorflow.saved_model.load`](https://www.tensorflow.org/agents/api_docs/python/tf_agents/policies/PolicySaver#usage), instead of [`tf_agents.policies.policy_loader.load`](https://github.com/tensorflow/agents/blob/r0.8.0/tf_agents/policies/policy_loader.py#L26), to load the trained policy, because the latter produces an object of type [`SavedModelPyTFEagerPolicy`](https://github.com/tensorflow/agents/blob/402b8aa81ca1b578ec1f687725d4ccb4115386d2/tf_agents/policies/py_tf_eager_policy.py#L137) whose `action()` is not compatible for use here.\n",
    "- Note that prediction requests contain only observation data but not reward. This is because: The prediction task is a standalone request that doesn't require prior knowledge of the system state. Meanwhile, end users only know what they observe at the moment. Reward is a piece of information that comes after the action has been made, so the end users would not have knowledge of said reward. In handling prediction requests, you create a [`TimeStep`](https://www.tensorflow.org/agents/api_docs/python/tf_agents/trajectories/TimeStep) object (consisting of `observation`, `reward`, `discount`, `step_type`) using the [`restart()`](https://www.tensorflow.org/agents/api_docs/python/tf_agents/trajectories/restart) function which takes in an `observation`. This function creates the *first* TimeStep in a trajectory of steps, where reward is 0, discount is 1 and step_type is marked as the first timestep. In other words, each prediction request forms the first `TimeStep` in a brand new trajectory.\n",
    "- For the prediction response, avoid using NumPy-typed values; instead, convert them to native Python values using methods such as [`tolist()`](https://numpy.org/doc/stable/reference/generated/numpy.ndarray.tolist.html) as opposed to `list()`."
   ]
  },
  {
   "cell_type": "markdown",
   "id": "69c757ff",
   "metadata": {},
   "source": [
    "### Predict on the Endpoint\n",
    "- Put prediction input(s) into a list named `instances`. The observation should of dimension (BATCH_SIZE, RANK_K). Read more about the MovieLens simulation environment observation [here](https://github.com/tensorflow/agents/blob/v0.8.0/tf_agents/bandits/environments/movielens_py_environment.py#L32-L138)."
   ]
  },
  {
   "cell_type": "code",
   "execution_count": null,
   "id": "49e85278",
   "metadata": {},
   "outputs": [],
   "source": [
    "recommended_movie_ids = predicting_utils.predict_observations_by_users(observation = {\"observation\": [list(np.ones(20)) for _ in range(8)]})"
   ]
  }
 ],
 "metadata": {
  "kernelspec": {
   "display_name": "Python 3",
   "language": "python",
   "name": "python3"
  },
  "language_info": {
   "codemirror_mode": {
    "name": "ipython",
    "version": 3
   },
   "file_extension": ".py",
   "mimetype": "text/x-python",
   "name": "python",
   "nbconvert_exporter": "python",
   "pygments_lexer": "ipython3",
   "version": "3.8.12"
  }
 },
 "nbformat": 4,
 "nbformat_minor": 5
}
